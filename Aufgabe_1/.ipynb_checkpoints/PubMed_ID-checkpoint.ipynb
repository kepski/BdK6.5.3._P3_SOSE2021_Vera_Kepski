{
 "cells": [
  {
   "cell_type": "code",
   "execution_count": 3,
   "metadata": {},
   "outputs": [],
   "source": [
    "import urllib.request\n",
    "import json"
   ]
  },
  {
   "cell_type": "code",
   "execution_count": 4,
   "metadata": {},
   "outputs": [],
   "source": [
    "base_url = \"https://eutils.ncbi.nlm.nih.gov/entrez/eutils/esummary.fcgi?db=pubmed&retmode=json&id=\""
   ]
  },
  {
   "cell_type": "code",
   "execution_count": 5,
   "metadata": {},
   "outputs": [],
   "source": [
    "pubmed_id1 = base_url + \"27708327\""
   ]
  },
  {
   "cell_type": "code",
   "execution_count": 6,
   "metadata": {},
   "outputs": [],
   "source": [
    "pubmed_id1 = urllib.request.urlopen (pubmed_id1).read ()"
   ]
  },
  {
   "cell_type": "code",
   "execution_count": 7,
   "metadata": {},
   "outputs": [
    {
     "name": "stdout",
     "output_type": "stream",
     "text": [
      "b'{\"header\":{\"type\":\"esummary\",\"version\":\"0.3\"},\"result\":{\"uids\":[\"27708327\"],\"27708327\":{\"uid\":\"27708327\",\"pubdate\":\"2016 Oct 6\",\"epubdate\":\"\",\"source\":\"Nature\",\"authors\":[{\"name\":\"Perkel J\",\"authtype\":\"Author\",\"clusterid\":\"\"}],\"lastauthor\":\"Perkel J\",\"title\":\"Democratic databases: science on GitHub.\",\"sorttitle\":\"democratic databases science on github\",\"volume\":\"538\",\"issue\":\"7623\",\"pages\":\"127-128\",\"lang\":[\"eng\"],\"nlmuniqueid\":\"0410462\",\"issn\":\"0028-0836\",\"essn\":\"1476-4687\",\"pubtype\":[\"Journal Article\"],\"recordstatus\":\"PubMed - indexed for MEDLINE\",\"pubstatus\":\"4\",\"articleids\":[{\"idtype\":\"pubmed\",\"idtypen\":1,\"value\":\"27708327\"},{\"idtype\":\"pii\",\"idtypen\":4,\"value\":\"538127a\"},{\"idtype\":\"doi\",\"idtypen\":3,\"value\":\"10.1038/538127a\"},{\"idtype\":\"rid\",\"idtypen\":8,\"value\":\"27708327\"},{\"idtype\":\"eid\",\"idtypen\":8,\"value\":\"27708327\"}],\"history\":[{\"pubstatus\":\"entrez\",\"date\":\"2016/10/07 06:00\"},{\"pubstatus\":\"pubmed\",\"date\":\"2016/10/07 06:00\"},{\"pubstatus\":\"medline\",\"date\":\"2016/11/03 06:00\"}],\"references\":[{\"refsource\":\"Nature. 2016 Oct 31;539(7627):126\",\"reftype\":\"Erratum in\",\"pmid\":27808210,\"note\":\"\"}],\"attributes\":[],\"pmcrefcount\":11,\"fulljournalname\":\"Nature\",\"elocationid\":\"doi: 10.1038/538127a\",\"doctype\":\"citation\",\"srccontriblist\":[],\"booktitle\":\"\",\"medium\":\"\",\"edition\":\"\",\"publisherlocation\":\"\",\"publishername\":\"\",\"srcdate\":\"\",\"reportnumber\":\"\",\"availablefromurl\":\"\",\"locationlabel\":\"\",\"doccontriblist\":[],\"docdate\":\"\",\"bookname\":\"\",\"chapter\":\"\",\"sortpubdate\":\"2016/10/06 00:00\",\"sortfirstauthor\":\"Perkel J\",\"vernaculartitle\":\"\"}}}\\n'\n"
     ]
    }
   ],
   "source": [
    "print (pubmed_id1)"
   ]
  },
  {
   "cell_type": "code",
   "execution_count": 8,
   "metadata": {},
   "outputs": [],
   "source": [
    "pubmed_id2 = base_url + \"31452104\""
   ]
  },
  {
   "cell_type": "code",
   "execution_count": 9,
   "metadata": {},
   "outputs": [],
   "source": [
    "pubmed_id2 = urllib.request.urlopen (pubmed_id2).read ()"
   ]
  },
  {
   "cell_type": "code",
   "execution_count": 10,
   "metadata": {},
   "outputs": [
    {
     "name": "stdout",
     "output_type": "stream",
     "text": [
      "b'{\"header\":{\"type\":\"esummary\",\"version\":\"0.3\"},\"result\":{\"uids\":[\"31452104\"],\"31452104\":{\"uid\":\"31452104\",\"pubdate\":\"2019\",\"epubdate\":\"\",\"source\":\"Methods Mol Biol\",\"authors\":[{\"name\":\"Bitencourt-Ferreira G\",\"authtype\":\"Author\",\"clusterid\":\"\"},{\"name\":\"de Azevedo WF Jr\",\"authtype\":\"Author\",\"clusterid\":\"\"}],\"lastauthor\":\"de Azevedo WF Jr\",\"title\":\"Molegro Virtual Docker for Docking.\",\"sorttitle\":\"molegro virtual docker for docking\",\"volume\":\"2053\",\"issue\":\"\",\"pages\":\"149-167\",\"lang\":[\"eng\"],\"nlmuniqueid\":\"9214969\",\"issn\":\"1064-3745\",\"essn\":\"1940-6029\",\"pubtype\":[\"Journal Article\"],\"recordstatus\":\"PubMed - indexed for MEDLINE\",\"pubstatus\":\"4\",\"articleids\":[{\"idtype\":\"pubmed\",\"idtypen\":1,\"value\":\"31452104\"},{\"idtype\":\"doi\",\"idtypen\":3,\"value\":\"10.1007/978-1-4939-9752-7_10\"},{\"idtype\":\"rid\",\"idtypen\":8,\"value\":\"31452104\"},{\"idtype\":\"eid\",\"idtypen\":8,\"value\":\"31452104\"}],\"history\":[{\"pubstatus\":\"entrez\",\"date\":\"2019/08/28 06:00\"},{\"pubstatus\":\"pubmed\",\"date\":\"2019/08/28 06:00\"},{\"pubstatus\":\"medline\",\"date\":\"2020/06/20 06:00\"}],\"references\":[],\"attributes\":[\"Has Abstract\"],\"pmcrefcount\":4,\"fulljournalname\":\"Methods in molecular biology (Clifton, N.J.)\",\"elocationid\":\"doi: 10.1007/978-1-4939-9752-7_10\",\"doctype\":\"citation\",\"srccontriblist\":[],\"booktitle\":\"\",\"medium\":\"\",\"edition\":\"\",\"publisherlocation\":\"\",\"publishername\":\"\",\"srcdate\":\"\",\"reportnumber\":\"\",\"availablefromurl\":\"\",\"locationlabel\":\"\",\"doccontriblist\":[],\"docdate\":\"\",\"bookname\":\"\",\"chapter\":\"\",\"sortpubdate\":\"2019/01/01 00:00\",\"sortfirstauthor\":\"Bitencourt-Ferreira G\",\"vernaculartitle\":\"\"}}}\\n'\n"
     ]
    }
   ],
   "source": [
    "print (pubmed_id2)"
   ]
  },
  {
   "cell_type": "code",
   "execution_count": 11,
   "metadata": {},
   "outputs": [],
   "source": [
    "pubmed_id3 = base_url + \"31437182\""
   ]
  },
  {
   "cell_type": "code",
   "execution_count": 12,
   "metadata": {},
   "outputs": [],
   "source": [
    "pubmed_id3 = urllib.request.urlopen (pubmed_id3).read ()"
   ]
  },
  {
   "cell_type": "code",
   "execution_count": 13,
   "metadata": {},
   "outputs": [
    {
     "name": "stdout",
     "output_type": "stream",
     "text": [
      "b'{\"header\":{\"type\":\"esummary\",\"version\":\"0.3\"},\"result\":{\"uids\":[\"31437182\"],\"31437182\":{\"uid\":\"31437182\",\"pubdate\":\"2019\",\"epubdate\":\"2019 Aug 22\",\"source\":\"PLoS One\",\"authors\":[{\"name\":\"Balaban M\",\"authtype\":\"Author\",\"clusterid\":\"\"},{\"name\":\"Moshiri N\",\"authtype\":\"Author\",\"clusterid\":\"\"},{\"name\":\"Mai U\",\"authtype\":\"Author\",\"clusterid\":\"\"},{\"name\":\"Jia X\",\"authtype\":\"Author\",\"clusterid\":\"\"},{\"name\":\"Mirarab S\",\"authtype\":\"Author\",\"clusterid\":\"\"}],\"lastauthor\":\"Mirarab S\",\"title\":\"TreeCluster: Clustering biological sequences using phylogenetic trees.\",\"sorttitle\":\"treecluster clustering biological sequences using phylogenetic trees\",\"volume\":\"14\",\"issue\":\"8\",\"pages\":\"e0221068\",\"lang\":[\"eng\"],\"nlmuniqueid\":\"101285081\",\"issn\":\"\",\"essn\":\"1932-6203\",\"pubtype\":[\"Journal Article\"],\"recordstatus\":\"PubMed - indexed for MEDLINE\",\"pubstatus\":\"258\",\"articleids\":[{\"idtype\":\"pubmed\",\"idtypen\":1,\"value\":\"31437182\"},{\"idtype\":\"doi\",\"idtypen\":3,\"value\":\"10.1371/journal.pone.0221068\"},{\"idtype\":\"pii\",\"idtypen\":4,\"value\":\"PONE-D-19-14871\"},{\"idtype\":\"pmc\",\"idtypen\":8,\"value\":\"PMC6705769\"},{\"idtype\":\"rid\",\"idtypen\":8,\"value\":\"31437182\"},{\"idtype\":\"eid\",\"idtypen\":8,\"value\":\"31437182\"},{\"idtype\":\"pmcid\",\"idtypen\":5,\"value\":\"pmc-id: PMC6705769;\"}],\"history\":[{\"pubstatus\":\"received\",\"date\":\"2019/05/26 00:00\"},{\"pubstatus\":\"accepted\",\"date\":\"2019/07/26 00:00\"},{\"pubstatus\":\"entrez\",\"date\":\"2019/08/23 06:00\"},{\"pubstatus\":\"pubmed\",\"date\":\"2019/08/23 06:00\"},{\"pubstatus\":\"medline\",\"date\":\"2020/03/04 06:00\"}],\"references\":[],\"attributes\":[\"Has Abstract\"],\"pmcrefcount\":8,\"fulljournalname\":\"PloS one\",\"elocationid\":\"doi: 10.1371/journal.pone.0221068\",\"doctype\":\"citation\",\"srccontriblist\":[],\"booktitle\":\"\",\"medium\":\"\",\"edition\":\"\",\"publisherlocation\":\"\",\"publishername\":\"\",\"srcdate\":\"\",\"reportnumber\":\"\",\"availablefromurl\":\"\",\"locationlabel\":\"\",\"doccontriblist\":[],\"docdate\":\"\",\"bookname\":\"\",\"chapter\":\"\",\"sortpubdate\":\"2019/08/22 00:00\",\"sortfirstauthor\":\"Balaban M\",\"vernaculartitle\":\"\"}}}\\n'\n"
     ]
    }
   ],
   "source": [
    "print (pubmed_id3)"
   ]
  },
  {
   "cell_type": "code",
   "execution_count": 14,
   "metadata": {},
   "outputs": [],
   "source": [
    "pubmed_id4 = base_url + \"31455877\""
   ]
  },
  {
   "cell_type": "code",
   "execution_count": 15,
   "metadata": {},
   "outputs": [],
   "source": [
    "pubmed_id4 = urllib.request.urlopen (pubmed_id4).read ()"
   ]
  },
  {
   "cell_type": "code",
   "execution_count": 16,
   "metadata": {},
   "outputs": [
    {
     "name": "stdout",
     "output_type": "stream",
     "text": [
      "b'{\"header\":{\"type\":\"esummary\",\"version\":\"0.3\"},\"result\":{\"uids\":[\"31455877\"],\"31455877\":{\"uid\":\"31455877\",\"pubdate\":\"2019 Aug 27\",\"epubdate\":\"2019 Aug 27\",\"source\":\"Sci Rep\",\"authors\":[{\"name\":\"Booeshaghi AS\",\"authtype\":\"Author\",\"clusterid\":\"\"},{\"name\":\"Beltrame EDV\",\"authtype\":\"Author\",\"clusterid\":\"\"},{\"name\":\"Bannon D\",\"authtype\":\"Author\",\"clusterid\":\"\"},{\"name\":\"Gehring J\",\"authtype\":\"Author\",\"clusterid\":\"\"},{\"name\":\"Pachter L\",\"authtype\":\"Author\",\"clusterid\":\"\"}],\"lastauthor\":\"Pachter L\",\"title\":\"Principles of open source bioinstrumentation applied to the poseidon syringe pump system.\",\"sorttitle\":\"principles of open source bioinstrumentation applied to the poseidon syringe pump system\",\"volume\":\"9\",\"issue\":\"1\",\"pages\":\"12385\",\"lang\":[\"eng\"],\"nlmuniqueid\":\"101563288\",\"issn\":\"\",\"essn\":\"2045-2322\",\"pubtype\":[\"Journal Article\"],\"recordstatus\":\"PubMed\",\"pubstatus\":\"3\",\"articleids\":[{\"idtype\":\"pubmed\",\"idtypen\":1,\"value\":\"31455877\"},{\"idtype\":\"doi\",\"idtypen\":3,\"value\":\"10.1038/s41598-019-48815-9\"},{\"idtype\":\"pii\",\"idtypen\":4,\"value\":\"10.1038/s41598-019-48815-9\"},{\"idtype\":\"pmc\",\"idtypen\":8,\"value\":\"PMC6711986\"},{\"idtype\":\"rid\",\"idtypen\":8,\"value\":\"31455877\"},{\"idtype\":\"eid\",\"idtypen\":8,\"value\":\"31455877\"},{\"idtype\":\"pmcid\",\"idtypen\":5,\"value\":\"pmc-id: PMC6711986;\"}],\"history\":[{\"pubstatus\":\"received\",\"date\":\"2019/02/07 00:00\"},{\"pubstatus\":\"accepted\",\"date\":\"2019/08/08 00:00\"},{\"pubstatus\":\"entrez\",\"date\":\"2019/08/29 06:00\"},{\"pubstatus\":\"pubmed\",\"date\":\"2019/08/29 06:00\"},{\"pubstatus\":\"medline\",\"date\":\"2019/08/29 06:01\"}],\"references\":[],\"attributes\":[\"Has Abstract\"],\"pmcrefcount\":4,\"fulljournalname\":\"Scientific reports\",\"elocationid\":\"doi: 10.1038/s41598-019-48815-9\",\"doctype\":\"citation\",\"srccontriblist\":[],\"booktitle\":\"\",\"medium\":\"\",\"edition\":\"\",\"publisherlocation\":\"\",\"publishername\":\"\",\"srcdate\":\"\",\"reportnumber\":\"\",\"availablefromurl\":\"\",\"locationlabel\":\"\",\"doccontriblist\":[],\"docdate\":\"\",\"bookname\":\"\",\"chapter\":\"\",\"sortpubdate\":\"2019/08/27 00:00\",\"sortfirstauthor\":\"Booeshaghi AS\",\"vernaculartitle\":\"\"}}}\\n'\n"
     ]
    }
   ],
   "source": [
    "print (pubmed_id4)"
   ]
  },
  {
   "cell_type": "code",
   "execution_count": 17,
   "metadata": {},
   "outputs": [],
   "source": [
    "pubmed_id5 = base_url + \"31535994\""
   ]
  },
  {
   "cell_type": "code",
   "execution_count": 18,
   "metadata": {},
   "outputs": [],
   "source": [
    "pubmed_id5 = urllib.request.urlopen (pubmed_id5).read ()"
   ]
  },
  {
   "cell_type": "code",
   "execution_count": 19,
   "metadata": {},
   "outputs": [
    {
     "name": "stdout",
     "output_type": "stream",
     "text": [
      "b'{\"header\":{\"type\":\"esummary\",\"version\":\"0.3\"},\"result\":{\"uids\":[\"31455877\"],\"31455877\":{\"uid\":\"31455877\",\"pubdate\":\"2019 Aug 27\",\"epubdate\":\"2019 Aug 27\",\"source\":\"Sci Rep\",\"authors\":[{\"name\":\"Booeshaghi AS\",\"authtype\":\"Author\",\"clusterid\":\"\"},{\"name\":\"Beltrame EDV\",\"authtype\":\"Author\",\"clusterid\":\"\"},{\"name\":\"Bannon D\",\"authtype\":\"Author\",\"clusterid\":\"\"},{\"name\":\"Gehring J\",\"authtype\":\"Author\",\"clusterid\":\"\"},{\"name\":\"Pachter L\",\"authtype\":\"Author\",\"clusterid\":\"\"}],\"lastauthor\":\"Pachter L\",\"title\":\"Principles of open source bioinstrumentation applied to the poseidon syringe pump system.\",\"sorttitle\":\"principles of open source bioinstrumentation applied to the poseidon syringe pump system\",\"volume\":\"9\",\"issue\":\"1\",\"pages\":\"12385\",\"lang\":[\"eng\"],\"nlmuniqueid\":\"101563288\",\"issn\":\"\",\"essn\":\"2045-2322\",\"pubtype\":[\"Journal Article\"],\"recordstatus\":\"PubMed\",\"pubstatus\":\"3\",\"articleids\":[{\"idtype\":\"pubmed\",\"idtypen\":1,\"value\":\"31455877\"},{\"idtype\":\"doi\",\"idtypen\":3,\"value\":\"10.1038/s41598-019-48815-9\"},{\"idtype\":\"pii\",\"idtypen\":4,\"value\":\"10.1038/s41598-019-48815-9\"},{\"idtype\":\"pmc\",\"idtypen\":8,\"value\":\"PMC6711986\"},{\"idtype\":\"rid\",\"idtypen\":8,\"value\":\"31455877\"},{\"idtype\":\"eid\",\"idtypen\":8,\"value\":\"31455877\"},{\"idtype\":\"pmcid\",\"idtypen\":5,\"value\":\"pmc-id: PMC6711986;\"}],\"history\":[{\"pubstatus\":\"received\",\"date\":\"2019/02/07 00:00\"},{\"pubstatus\":\"accepted\",\"date\":\"2019/08/08 00:00\"},{\"pubstatus\":\"entrez\",\"date\":\"2019/08/29 06:00\"},{\"pubstatus\":\"pubmed\",\"date\":\"2019/08/29 06:00\"},{\"pubstatus\":\"medline\",\"date\":\"2019/08/29 06:01\"}],\"references\":[],\"attributes\":[\"Has Abstract\"],\"pmcrefcount\":4,\"fulljournalname\":\"Scientific reports\",\"elocationid\":\"doi: 10.1038/s41598-019-48815-9\",\"doctype\":\"citation\",\"srccontriblist\":[],\"booktitle\":\"\",\"medium\":\"\",\"edition\":\"\",\"publisherlocation\":\"\",\"publishername\":\"\",\"srcdate\":\"\",\"reportnumber\":\"\",\"availablefromurl\":\"\",\"locationlabel\":\"\",\"doccontriblist\":[],\"docdate\":\"\",\"bookname\":\"\",\"chapter\":\"\",\"sortpubdate\":\"2019/08/27 00:00\",\"sortfirstauthor\":\"Booeshaghi AS\",\"vernaculartitle\":\"\"}}}\\n'\n"
     ]
    }
   ],
   "source": [
    "print (pubmed_id4)"
   ]
  },
  {
   "cell_type": "code",
   "execution_count": 20,
   "metadata": {},
   "outputs": [
    {
     "data": {
      "text/plain": [
       "bytes"
      ]
     },
     "execution_count": 20,
     "metadata": {},
     "output_type": "execute_result"
    }
   ],
   "source": [
    "type (pubmed_id1)"
   ]
  },
  {
   "cell_type": "code",
   "execution_count": 21,
   "metadata": {},
   "outputs": [],
   "source": [
    "import pandas as pd"
   ]
  },
  {
   "cell_type": "code",
   "execution_count": 22,
   "metadata": {},
   "outputs": [],
   "source": [
    "data_id1 = json.loads (pubmed_id1)"
   ]
  },
  {
   "cell_type": "code",
   "execution_count": 24,
   "metadata": {},
   "outputs": [
    {
     "data": {
      "text/plain": [
       "dict"
      ]
     },
     "execution_count": 24,
     "metadata": {},
     "output_type": "execute_result"
    }
   ],
   "source": [
    "type (data_id1)"
   ]
  },
  {
   "cell_type": "code",
   "execution_count": 25,
   "metadata": {},
   "outputs": [
    {
     "data": {
      "text/plain": [
       "dict_keys(['header', 'result'])"
      ]
     },
     "execution_count": 25,
     "metadata": {},
     "output_type": "execute_result"
    }
   ],
   "source": [
    "data_id1.keys ()"
   ]
  },
  {
   "cell_type": "code",
   "execution_count": 27,
   "metadata": {},
   "outputs": [
    {
     "data": {
      "text/html": [
       "<div>\n",
       "<style scoped>\n",
       "    .dataframe tbody tr th:only-of-type {\n",
       "        vertical-align: middle;\n",
       "    }\n",
       "\n",
       "    .dataframe tbody tr th {\n",
       "        vertical-align: top;\n",
       "    }\n",
       "\n",
       "    .dataframe thead th {\n",
       "        text-align: right;\n",
       "    }\n",
       "</style>\n",
       "<table border=\"1\" class=\"dataframe\">\n",
       "  <thead>\n",
       "    <tr style=\"text-align: right;\">\n",
       "      <th></th>\n",
       "      <th>{\"header\":{\"type\":\"esummary\"</th>\n",
       "      <th>version:\"0.3\"}</th>\n",
       "      <th>result:{\"uids\":[\"27708327\"]</th>\n",
       "      <th>27708327:{\"uid\":\"27708327\"</th>\n",
       "      <th>pubdate:\"2016 Oct 6\"</th>\n",
       "      <th>epubdate:\"\"</th>\n",
       "      <th>source:\"Nature\"</th>\n",
       "      <th>authors:[{\"name\":\"Perkel J\"</th>\n",
       "      <th>authtype:\"Author\"</th>\n",
       "      <th>clusterid:\"\"}]</th>\n",
       "      <th>...</th>\n",
       "      <th>reportnumber:\"\"</th>\n",
       "      <th>availablefromurl:\"\"</th>\n",
       "      <th>locationlabel:\"\"</th>\n",
       "      <th>doccontriblist:[]</th>\n",
       "      <th>docdate:\"\"</th>\n",
       "      <th>bookname:\"\"</th>\n",
       "      <th>chapter:\"\"</th>\n",
       "      <th>sortpubdate:\"2016/10/06 00:00\"</th>\n",
       "      <th>sortfirstauthor:\"Perkel J\"</th>\n",
       "      <th>vernaculartitle:\"\"}}}</th>\n",
       "    </tr>\n",
       "  </thead>\n",
       "  <tbody>\n",
       "  </tbody>\n",
       "</table>\n",
       "<p>0 rows × 70 columns</p>\n",
       "</div>"
      ],
      "text/plain": [
       "Empty DataFrame\n",
       "Columns: [{\"header\":{\"type\":\"esummary\", version:\"0.3\"}, result:{\"uids\":[\"27708327\"], 27708327:{\"uid\":\"27708327\", pubdate:\"2016 Oct 6\", epubdate:\"\", source:\"Nature\", authors:[{\"name\":\"Perkel J\", authtype:\"Author\", clusterid:\"\"}], lastauthor:\"Perkel J\", title:\"Democratic databases: science on GitHub.\", sorttitle:\"democratic databases science on github\", volume:\"538\", issue:\"7623\", pages:\"127-128\", lang:[\"eng\"], nlmuniqueid:\"0410462\", issn:\"0028-0836\", essn:\"1476-4687\", pubtype:[\"Journal Article\"], recordstatus:\"PubMed - indexed for MEDLINE\", pubstatus:\"4\", articleids:[{\"idtype\":\"pubmed\", idtypen:1, value:\"27708327\"}, {\"idtype\":\"pii\", idtypen:4, value:\"538127a\"}, {\"idtype\":\"doi\", idtypen:3, value:\"10.1038/538127a\"}, {\"idtype\":\"rid\", idtypen:8, value:\"27708327\"}.1, {\"idtype\":\"eid\", idtypen:8.1, value:\"27708327\"}], history:[{\"pubstatus\":\"entrez\", date:\"2016/10/07 06:00\"}, {\"pubstatus\":\"pubmed\", date:\"2016/10/07 06:00\"}.1, {\"pubstatus\":\"medline\", date:\"2016/11/03 06:00\"}], references:[{\"refsource\":\"Nature. 2016 Oct 31;539(7627):126\", reftype:\"Erratum in\", pmid:27808210, note:\"\"}], attributes:[], pmcrefcount:11, fulljournalname:\"Nature\", elocationid:\"doi: 10.1038/538127a\", doctype:\"citation\", srccontriblist:[], booktitle:\"\", medium:\"\", edition:\"\", publisherlocation:\"\", publishername:\"\", srcdate:\"\", reportnumber:\"\", availablefromurl:\"\", locationlabel:\"\", doccontriblist:[], docdate:\"\", bookname:\"\", chapter:\"\", sortpubdate:\"2016/10/06 00:00\", sortfirstauthor:\"Perkel J\", vernaculartitle:\"\"}}}]\n",
       "Index: []\n",
       "\n",
       "[0 rows x 70 columns]"
      ]
     },
     "execution_count": 27,
     "metadata": {},
     "output_type": "execute_result"
    }
   ],
   "source": [
    "pd.read_csv(base_url+\"27708327\")"
   ]
  },
  {
   "cell_type": "code",
   "execution_count": 1,
   "metadata": {},
   "outputs": [],
   "source": [
    "titles = [\"Democratic databases: science on GitHub.\", \"Molegro Virtual Docker for Docking.\", \"TreeCluster: Clustering biological sequences using phylogenetic trees.\", \"Principles of open source bioinstrumentation applied to the poseidon syringe pump system.\", \"Aggregation Signature for Small Object Tracking.\"]"
   ]
  },
  {
   "cell_type": "code",
   "execution_count": 2,
   "metadata": {},
   "outputs": [],
   "source": [
    "pubdates = [\"2016\", \"2019\", \"2019\", \"2019\", \"2019\"]"
   ]
  },
  {
   "cell_type": "code",
   "execution_count": 3,
   "metadata": {},
   "outputs": [
    {
     "data": {
      "text/plain": [
       "'Democratic databases: science on GitHub.2016'"
      ]
     },
     "execution_count": 3,
     "metadata": {},
     "output_type": "execute_result"
    }
   ],
   "source": [
    "titles [0] + pubdates [0]"
   ]
  },
  {
   "cell_type": "code",
   "execution_count": 4,
   "metadata": {},
   "outputs": [
    {
     "data": {
      "text/plain": [
       "'Molegro Virtual Docker for Docking.2019'"
      ]
     },
     "execution_count": 4,
     "metadata": {},
     "output_type": "execute_result"
    }
   ],
   "source": [
    "titles [1] + pubdates [1]"
   ]
  },
  {
   "cell_type": "code",
   "execution_count": 5,
   "metadata": {},
   "outputs": [
    {
     "data": {
      "text/plain": [
       "'TreeCluster: Clustering biological sequences using phylogenetic trees.2019'"
      ]
     },
     "execution_count": 5,
     "metadata": {},
     "output_type": "execute_result"
    }
   ],
   "source": [
    "titles [2] + pubdates [2]"
   ]
  },
  {
   "cell_type": "code",
   "execution_count": 6,
   "metadata": {},
   "outputs": [
    {
     "data": {
      "text/plain": [
       "'Principles of open source bioinstrumentation applied to the poseidon syringe pump system.2019'"
      ]
     },
     "execution_count": 6,
     "metadata": {},
     "output_type": "execute_result"
    }
   ],
   "source": [
    "titles [3] + pubdates [3]"
   ]
  },
  {
   "cell_type": "code",
   "execution_count": 7,
   "metadata": {},
   "outputs": [
    {
     "data": {
      "text/plain": [
       "'Aggregation Signature for Small Object Tracking.2019'"
      ]
     },
     "execution_count": 7,
     "metadata": {},
     "output_type": "execute_result"
    }
   ],
   "source": [
    "titles [4] + pubdates [4]"
   ]
  },
  {
   "cell_type": "code",
   "execution_count": null,
   "metadata": {},
   "outputs": [],
   "source": []
  }
 ],
 "metadata": {
  "kernelspec": {
   "display_name": "Python 3",
   "language": "python",
   "name": "python3"
  },
  "language_info": {
   "codemirror_mode": {
    "name": "ipython",
    "version": 3
   },
   "file_extension": ".py",
   "mimetype": "text/x-python",
   "name": "python",
   "nbconvert_exporter": "python",
   "pygments_lexer": "ipython3",
   "version": "3.8.5"
  }
 },
 "nbformat": 4,
 "nbformat_minor": 4
}
